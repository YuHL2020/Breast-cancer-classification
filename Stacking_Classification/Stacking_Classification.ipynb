{
 "cells": [
  {
   "cell_type": "code",
   "execution_count": 1,
   "metadata": {},
   "outputs": [
    {
     "name": "stderr",
     "output_type": "stream",
     "text": [
      "C:\\ProgramData\\Anaconda3\\lib\\site-packages\\sklearn\\ensemble\\weight_boosting.py:29: DeprecationWarning: numpy.core.umath_tests is an internal NumPy module and should not be imported. It will be removed in a future NumPy release.\n",
      "  from numpy.core.umath_tests import inner1d\n"
     ]
    }
   ],
   "source": [
    "# coding=utf8\n",
    "from sklearn.tree import DecisionTreeClassifier\n",
    "from sklearn.metrics import classification_report\n",
    "from sklearn.metrics import accuracy_score\n",
    "from sklearn import datasets\n",
    "from sklearn import linear_model, tree, svm, naive_bayes, neighbors\n",
    "from sklearn.ensemble import RandomForestClassifier, ExtraTreesClassifier, GradientBoostingClassifier,AdaBoostClassifier\n",
    "from sklearn.model_selection import train_test_split\n",
    "from sklearn.model_selection import StratifiedKFold\n",
    "import numpy as np\n",
    "from sklearn.metrics import roc_auc_score\n",
    "from sklearn.datasets.samples_generator import make_blobs\n",
    "from sklearn.model_selection import KFold\n",
    "from sklearn.decomposition import PCA\n",
    "\n",
    "train_features_quanju = np.loadtxt(\"quanju_1.csv\", delimiter=\",\")\n",
    "test_features_quanju = np.loadtxt(\"quanju_test_1.csv\", delimiter=\",\")\n",
    "train_features_zhongliu = np.loadtxt(\"zhongliu.csv\", delimiter=\",\")\n",
    "test_features_zhongliu = np.loadtxt(\"zhongliu_test.csv\", delimiter=\",\")\n",
    "train_features_bydai = np.loadtxt(\"bydai.csv\", delimiter=\",\")\n",
    "test_features_bydai = np.loadtxt(\"bydai_test.csv\", delimiter=\",\")\n",
    "train_features_huisheng = np.loadtxt(\"huisheng.csv\", delimiter=\",\")\n",
    "test_features_huisheng = np.loadtxt(\"huisheng_test.csv\", delimiter=\",\")\n",
    "\n",
    "pca = PCA(n_components=10,random_state=30)\n",
    "a = pca.fit(train_features_quanju)\n",
    "# print(pca.explained_variance_ratio_)\n",
    "# print('----------------------------------')\n",
    "# print(pca.explained_variance_)\n",
    "train_quanju = pca.transform(train_features_quanju)\n",
    "test_quanju = pca.transform(test_features_quanju)\n",
    "train_zhongliu = pca.transform(train_features_zhongliu)\n",
    "test_zhongliu = pca.transform(test_features_zhongliu)\n",
    "train_bydai = pca.transform(train_features_bydai)\n",
    "test_bydai = pca.transform(test_features_bydai)\n",
    "train_huisheng = pca.transform(train_features_huisheng)\n",
    "test_huisheng = pca.transform(test_features_huisheng)\n",
    "\n",
    "train_labels = np.loadtxt(\"Y_train.csv\", delimiter=\",\")\n",
    "test_labels = np.loadtxt(\"Y_test.csv\", delimiter=\",\")"
   ]
  },
  {
   "cell_type": "code",
   "execution_count": 2,
   "metadata": {},
   "outputs": [
    {
     "data": {
      "text/plain": [
       "((120, 10), (120, 10), (120, 10), (120, 10))"
      ]
     },
     "execution_count": 2,
     "metadata": {},
     "output_type": "execute_result"
    }
   ],
   "source": [
    "test_quanju.shape,test_zhongliu.shape,test_bydai.shape,test_huisheng.shape"
   ]
  },
  {
   "cell_type": "code",
   "execution_count": 3,
   "metadata": {},
   "outputs": [
    {
     "data": {
      "text/plain": [
       "((359, 10), (359, 10), (359, 10), (359, 10))"
      ]
     },
     "execution_count": 3,
     "metadata": {},
     "output_type": "execute_result"
    }
   ],
   "source": [
    "train_quanju.shape,train_zhongliu.shape,train_bydai.shape,train_huisheng.shape"
   ]
  },
  {
   "cell_type": "code",
   "execution_count": 4,
   "metadata": {},
   "outputs": [],
   "source": [
    "x1 = np.hstack((train_quanju,train_zhongliu,train_bydai,train_huisheng))\n",
    "x2 = np.hstack((test_quanju,test_zhongliu,test_bydai,test_huisheng))\n",
    "# x1 = np.hstack((train_features_quanju,train_features_zhongliu))\n",
    "# x2 = np.hstack((test_features_quanju,test_features_zhongliu))\n",
    "data = np.vstack((x1,x2))\n",
    "\n",
    "label = np.hstack((train_labels,test_labels))"
   ]
  },
  {
   "cell_type": "code",
   "execution_count": 5,
   "metadata": {},
   "outputs": [],
   "source": [
    "'''模型融合中使用到的各个单模型'''\n",
    "# n_jobs 用于拟合和预测的并行运行的工作（作业）数量。如果值为-1，那么工作数量被设置为核的数量。\n",
    "# criterion 衡量分裂质量的性能（函数）。 受支持的标准是基尼不纯度的\"gini\",和信息增益的\"entropy\"（熵）\n",
    "clfs = [\n",
    "        linear_model.LogisticRegression(),\n",
    "#         RandomForestClassifier(n_estimators=5, n_jobs=-1, criterion='gini'),\n",
    "#         RandomForestClassifier(n_estimators=5, n_jobs=-1, criterion='entropy'),\n",
    "#         ExtraTreesClassifier(n_estimators=5, n_jobs=-1, criterion='gini'),\n",
    "#         ExtraTreesClassifier(n_estimators=5, n_jobs=-1, criterion='entropy'),\n",
    "#         GradientBoostingClassifier(learning_rate=0.05, subsample=0.5, max_depth=6, n_estimators=5),\n",
    "        tree.DecisionTreeClassifier(criterion='entropy', random_state=1),\n",
    "#         RandomForestClassifier(n_estimators=5, n_jobs=-1, criterion='entropy', random_state=1),\n",
    "        ExtraTreesClassifier(n_estimators=5, n_jobs=-1, criterion='entropy', random_state=1),\n",
    "#         AdaBoostClassifier(DecisionTreeClassifier(max_depth=2, min_samples_split=20, min_samples_leaf=5),\n",
    "#                          algorithm=\"SAMME\",\n",
    "#                          n_estimators=50, learning_rate=0.8),\n",
    "        svm.SVC(kernel='rbf',probability=True, random_state=1),     \n",
    "#         naive_bayes.GaussianNB(),\n",
    "#         GradientBoostingClassifier(learning_rate=0.05, subsample=0.5, max_depth=6, n_estimators=5, random_state=1),\n",
    "        neighbors.KNeighborsClassifier(n_neighbors=5)\n",
    "       ]   \n",
    "\n",
    "'''切分一部分数据作为测试集'''\n",
    "# X, X_predict, y, y_predict = train_test_split(data, label, test_size=0.33, random_state=2017)\n",
    "X = x1\n",
    "X_predict = x2\n",
    "# X = train_huisheng\n",
    "# X_predict = test_huisheng\n",
    "y = train_labels\n",
    "y_predict = test_labels\n",
    "\n",
    "dataset_blend_train = np.zeros((X.shape[0], len(clfs)))\n",
    "dataset_blend_test = np.zeros((X_predict.shape[0], len(clfs)))\n",
    "\n",
    "stratified_folder = StratifiedKFold(n_splits=5, random_state=0, shuffle=False)\n",
    "# for train_index, test_index in stratified_folder.split(X, y):\n",
    "#     print(\"Stratified Train Index:\", train_index)\n",
    "#     print(\"Stratified Test Index:\", test_index)\n",
    "#     print(\"Stratified y_train:\", y[train_index])\n",
    "#     print(\"Stratified y_test:\", y[test_index],'\\n')\n"
   ]
  },
  {
   "cell_type": "code",
   "execution_count": 6,
   "metadata": {},
   "outputs": [
    {
     "name": "stdout",
     "output_type": "stream",
     "text": [
      "val auc Score: 0.850308\n",
      "accuracy: 0.841667\n",
      "val auc Score: 0.782892\n",
      "accuracy: 0.791667\n",
      "val auc Score: 0.841609\n",
      "accuracy: 0.725000\n",
      "val auc Score: 0.823849\n",
      "accuracy: 0.783333\n",
      "val auc Score: 0.829648\n",
      "accuracy: 0.791667\n",
      "Linear stretch of predictions to [0,1]\n",
      "blend result\n",
      "val auc Score: 0.872418\n",
      "accuracy: 0.850000\n",
      "             precision    recall  f1-score   support\n",
      "\n",
      "     benign       0.88      0.92      0.90        89\n",
      " mallignant       0.74      0.65      0.69        31\n",
      "\n",
      "avg / total       0.85      0.85      0.85       120\n",
      "\n"
     ]
    }
   ],
   "source": [
    "for j, clf in enumerate(clfs):\n",
    "    '''依次训练各个单模型'''\n",
    "    # print(j, clf)\n",
    "    dataset_blend_test_j = np.zeros((X_predict.shape[0], 5))\n",
    "    # for i, (train, test) in sfolder.split(X,y):\n",
    "    i=0\n",
    "    for train_index, test_index in stratified_folder.split(X, y):\n",
    "        '''使用第i个部分作为预测，剩余的部分来训练模型，获得其预测的输出作为第i部分的新特征。'''\n",
    "        # print(\"Fold\", i)\n",
    "#         print(i)\n",
    "#         print(train_index)\n",
    "#         print(test_index)\n",
    "#         print('----------------------------------------------------------')\n",
    "        X_train, y_train, X_test, y_test = X[train_index], y[train_index], X[test_index], y[test_index]\n",
    "        clf.fit(X_train, y_train)\n",
    "        y_sub_1 = clf.predict_proba(X_test)\n",
    "        y_submission_1 = y_sub_1[:, 1]\n",
    "#         print(j,i,\"val auc Score: %f\" % roc_auc_score(y_test, y_submission_1))\n",
    "        dataset_blend_train[test_index, j] = y_submission_1\n",
    "        test_ = clf.predict_proba(X_predict)\n",
    "        dataset_blend_test_j[:, i] = test_[:, 1]\n",
    "        i+=1\n",
    "    '''对于测试集，直接用这k个模型的预测值均值作为新的特征。'''\n",
    "    dataset_blend_test[:, j] = dataset_blend_test_j.mean(1)\n",
    "    print(\"val auc Score: %f\" % roc_auc_score(y_predict, dataset_blend_test[:, j]))\n",
    "    print(\"accuracy: %f\" % accuracy_score(y_predict,np.argmax(test_, axis=1)))\n",
    "# clf = GradientBoostingClassifier(learning_rate=0.02, subsample=0.5, max_depth=6, n_estimators=30, random_state=100)\n",
    "clf = svm.SVC(kernel='linear',probability=True, random_state=1)\n",
    "# clf = linear_model.LogisticRegression()\n",
    "clf.fit(dataset_blend_train, y)\n",
    "y_sub_2 = clf.predict_proba(dataset_blend_test)\n",
    "y_submission = y_sub_2[:, 1]\n",
    "\n",
    "print(\"Linear stretch of predictions to [0,1]\")\n",
    "y_submission_final = (y_submission - y_submission.min()) / (y_submission.max() - y_submission.min())\n",
    "print(\"blend result\")\n",
    "print(\"val auc Score: %f\" % (roc_auc_score(y_predict, y_submission_final)))\n",
    "print(\"accuracy: %f\" % accuracy_score(y_predict,np.argmax(y_sub_2, axis=1)))\n",
    "from sklearn.metrics import classification_report\n",
    "print(classification_report(y_predict,np.argmax(y_sub_2, axis=1),target_names=['benign','mallignant']))"
   ]
  },
  {
   "cell_type": "code",
   "execution_count": 10,
   "metadata": {},
   "outputs": [
    {
     "data": {
      "text/plain": [
       "array([[0.01621983, 0.        , 0.2       , 0.04478447, 0.        ],\n",
       "       [0.96962575, 0.        , 0.2       , 0.52626129, 0.4       ],\n",
       "       [0.0039766 , 0.        , 0.        , 0.16970815, 0.        ],\n",
       "       ...,\n",
       "       [0.18538031, 1.        , 0.8       , 0.52312109, 0.8       ],\n",
       "       [0.15804781, 0.        , 0.        , 0.06547633, 0.        ],\n",
       "       [0.49220164, 1.        , 0.8       , 0.68398864, 0.8       ]])"
      ]
     },
     "execution_count": 10,
     "metadata": {},
     "output_type": "execute_result"
    }
   ],
   "source": [
    "dataset_blend_train"
   ]
  },
  {
   "cell_type": "code",
   "execution_count": 7,
   "metadata": {},
   "outputs": [],
   "source": [
    "from sklearn.metrics import roc_curve, auc  ###计算roc和auc\n",
    "y_score4 = clf.fit(dataset_blend_train, y).decision_function(dataset_blend_test)\n",
    "fpr4,tpr4,threshold4 = roc_curve(y_predict, y_score4) \n",
    "roc_auc4 = auc(fpr4,tpr4)"
   ]
  },
  {
   "cell_type": "code",
   "execution_count": 38,
   "metadata": {},
   "outputs": [
    {
     "data": {
      "image/png": "[encoded data removed]",
      "text/plain": [
       "<Figure size 360x360 with 1 Axes>"
      ]
     },
     "metadata": {
      "needs_background": "light"
     },
     "output_type": "display_data"
    }
   ],
   "source": [
    "import numpy as np\n",
    "import matplotlib.pyplot as plt\n",
    "from sklearn import svm, datasets\n",
    "from sklearn.metrics import roc_curve, auc  ###计算roc和auc\n",
    "from sklearn import model_selection\n",
    "# -*- coding: utf-8 -*-\n",
    "\n",
    "font1 = {'family' : 'Times New Roman',\n",
    "'weight' : 'normal',\n",
    "'size'   : 12,\n",
    "}\n",
    "\n",
    "# plt.figure()\n",
    "lw = 2\n",
    "plt.figure(figsize=(5,5))\n",
    "plt.plot(fpr1, tpr1, color='darkorange',ls='--',\n",
    "         lw=lw, label='Deep feature from OI, AUC = %0.3f' % roc_auc1) ###假正率为横坐标，真正率为纵坐标做曲线\n",
    "plt.plot(fpr2, tpr2, color='blue',ls='-.',\n",
    "         lw=lw, label='Deep feature from OI and IL, AUC = %0.3f' % roc_auc2) ###假正率为横坐标，真正率为纵坐标做曲线\n",
    "plt.plot(fpr3, tpr3, color='green',ls=':',\n",
    "         lw=lw, label='Deep feature from OI, IL and MZ, AUC = %0.3f' % roc_auc3) ###假正率为横坐标，真正率为纵坐标做曲线\n",
    "plt.plot(fpr4, tpr4, color='red',\n",
    "         lw=lw, label='Deep feature from OI, IL, MZ and PE, AUC = %0.3f' % roc_auc4) ###假正率为横坐标，真正率为纵坐标做曲线\n",
    "\n",
    "plt.plot([0, 1], [0, 1], color='black', lw=lw, linestyle='--')\n",
    "plt.xlim([0.0, 1.0])\n",
    "plt.ylim([0.0, 1.05])\n",
    "plt.xlabel('False Positive Rate',font1)\n",
    "plt.ylabel('True Positive Rate',font1)\n",
    "plt.title('Receiver Operating Characteristic Curves',font1)\n",
    "plt.legend(loc=\"lower right\",fontsize=7)\n",
    "plt.savefig('ROC.png', dpi=1000, bbox_inches='tight')\n",
    "plt.show()\n"
   ]
  }
 ],
 "metadata": {
  "kernelspec": {
   "display_name": "Python 3",
   "language": "python",
   "name": "python3"
  },
  "language_info": {
   "codemirror_mode": {
    "name": "ipython",
    "version": 3
   },
   "file_extension": ".py",
   "mimetype": "text/x-python",
   "name": "python",
   "nbconvert_exporter": "python",
   "pygments_lexer": "ipython3",
   "version": "3.6.5"
  }
 },
 "nbformat": 4,
 "nbformat_minor": 4
}
